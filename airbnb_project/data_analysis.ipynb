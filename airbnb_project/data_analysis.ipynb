{
 "cells": [
  {
   "cell_type": "code",
   "execution_count": 1,
   "metadata": {},
   "outputs": [],
   "source": [
    "import pandas as pd"
   ]
  },
  {
   "cell_type": "code",
   "execution_count": 2,
   "metadata": {},
   "outputs": [],
   "source": [
    "listings = pd.read_csv(\n",
    "    './data/Listings.csv', \n",
    "    encoding='latin1', \n",
    "    low_memory=False\n",
    "    )"
   ]
  },
  {
   "cell_type": "markdown",
   "metadata": {},
   "source": [
    "# Objective 1: Knowing The Data    "
   ]
  },
  {
   "cell_type": "code",
   "execution_count": 3,
   "metadata": {},
   "outputs": [
    {
     "name": "stdout",
     "output_type": "stream",
     "text": [
      "<class 'pandas.core.frame.DataFrame'>\n",
      "RangeIndex: 279712 entries, 0 to 279711\n",
      "Data columns (total 33 columns):\n",
      " #   Column                       Non-Null Count   Dtype  \n",
      "---  ------                       --------------   -----  \n",
      " 0   listing_id                   279712 non-null  int64  \n",
      " 1   name                         279537 non-null  object \n",
      " 2   host_id                      279712 non-null  int64  \n",
      " 3   host_since                   279547 non-null  object \n",
      " 4   host_location                278872 non-null  object \n",
      " 5   host_response_time           150930 non-null  object \n",
      " 6   host_response_rate           150930 non-null  float64\n",
      " 7   host_acceptance_rate         166625 non-null  float64\n",
      " 8   host_is_superhost            279547 non-null  object \n",
      " 9   host_total_listings_count    279547 non-null  float64\n",
      " 10  host_has_profile_pic         279547 non-null  object \n",
      " 11  host_identity_verified       279547 non-null  object \n",
      " 12  neighbourhood                279712 non-null  object \n",
      " 13  district                     37012 non-null   object \n",
      " 14  city                         279712 non-null  object \n",
      " 15  latitude                     279712 non-null  float64\n",
      " 16  longitude                    279712 non-null  float64\n",
      " 17  property_type                279712 non-null  object \n",
      " 18  room_type                    279712 non-null  object \n",
      " 19  accommodates                 279712 non-null  int64  \n",
      " 20  bedrooms                     250277 non-null  float64\n",
      " 21  amenities                    279712 non-null  object \n",
      " 22  price                        279712 non-null  int64  \n",
      " 23  minimum_nights               279712 non-null  int64  \n",
      " 24  maximum_nights               279712 non-null  int64  \n",
      " 25  review_scores_rating         188307 non-null  float64\n",
      " 26  review_scores_accuracy       187999 non-null  float64\n",
      " 27  review_scores_cleanliness    188047 non-null  float64\n",
      " 28  review_scores_checkin        187941 non-null  float64\n",
      " 29  review_scores_communication  188025 non-null  float64\n",
      " 30  review_scores_location       187937 non-null  float64\n",
      " 31  review_scores_value          187927 non-null  float64\n",
      " 32  instant_bookable             279712 non-null  object \n",
      "dtypes: float64(13), int64(6), object(14)\n",
      "memory usage: 70.4+ MB\n"
     ]
    }
   ],
   "source": [
    "listings.info()"
   ]
  },
  {
   "cell_type": "code",
   "execution_count": 4,
   "metadata": {},
   "outputs": [
    {
     "data": {
      "text/plain": [
       "Index(['listing_id', 'name', 'host_id', 'host_since', 'host_location',\n",
       "       'host_response_time', 'host_response_rate', 'host_acceptance_rate',\n",
       "       'host_is_superhost', 'host_total_listings_count',\n",
       "       'host_has_profile_pic', 'host_identity_verified', 'neighbourhood',\n",
       "       'district', 'city', 'latitude', 'longitude', 'property_type',\n",
       "       'room_type', 'accommodates', 'bedrooms', 'amenities', 'price',\n",
       "       'minimum_nights', 'maximum_nights', 'review_scores_rating',\n",
       "       'review_scores_accuracy', 'review_scores_cleanliness',\n",
       "       'review_scores_checkin', 'review_scores_communication',\n",
       "       'review_scores_location', 'review_scores_value', 'instant_bookable'],\n",
       "      dtype='object')"
      ]
     },
     "execution_count": 4,
     "metadata": {},
     "output_type": "execute_result"
    }
   ],
   "source": [
    "listings.columns"
   ]
  },
  {
   "cell_type": "markdown",
   "metadata": {},
   "source": [
    "#### Casting column host_since to datetime format"
   ]
  },
  {
   "cell_type": "markdown",
   "metadata": {},
   "source": [
    "> Can be done when importing csv"
   ]
  },
  {
   "cell_type": "code",
   "execution_count": 5,
   "metadata": {},
   "outputs": [
    {
     "data": {
      "text/plain": [
       "\" listings = pd.read_csv(\\n    './data/Listings.csv', \\n    encoding='latin1', \\n    low_memory=False,\\n    parse_dates=['host_since']\\n    ) \""
      ]
     },
     "execution_count": 5,
     "metadata": {},
     "output_type": "execute_result"
    }
   ],
   "source": [
    "\"\"\" listings = pd.read_csv(\n",
    "    './data/Listings.csv', \n",
    "    encoding='latin1', \n",
    "    low_memory=False,\n",
    "    parse_dates=['host_since']\n",
    "    ) \"\"\""
   ]
  },
  {
   "cell_type": "code",
   "execution_count": 6,
   "metadata": {},
   "outputs": [
    {
     "data": {
      "text/plain": [
       "dtype('O')"
      ]
     },
     "execution_count": 6,
     "metadata": {},
     "output_type": "execute_result"
    }
   ],
   "source": [
    "listings['host_since'].dtype"
   ]
  },
  {
   "cell_type": "code",
   "execution_count": 7,
   "metadata": {},
   "outputs": [],
   "source": [
    "listings['host_since'] = pd.to_datetime(listings['host_since'])"
   ]
  },
  {
   "cell_type": "code",
   "execution_count": 8,
   "metadata": {},
   "outputs": [
    {
     "data": {
      "text/plain": [
       "dtype('<M8[ns]')"
      ]
     },
     "execution_count": 8,
     "metadata": {},
     "output_type": "execute_result"
    }
   ],
   "source": [
    "listings['host_since'].dtype"
   ]
  },
  {
   "cell_type": "markdown",
   "metadata": {},
   "source": [
    "#### Filtering the data down to rows where the city is Paris and keeping only the columns 'host_since', 'neightbourhood', 'city', 'accommodates' and 'price'"
   ]
  },
  {
   "cell_type": "code",
   "execution_count": 9,
   "metadata": {},
   "outputs": [],
   "source": [
    "\"\"\" listings = listings[listings['city'] == 'Paris']\n",
    "paris_listings = paris_listings.filter(items=['host_since', 'neighbourhood', 'city', 'accommodates']) \"\"\"\n",
    "\n",
    "paris_listings = (\n",
    "    listings\n",
    "    .query(\"city == 'Paris'\")\n",
    "    .loc[:, ['host_since', 'neighbourhood', 'city', 'accommodates', 'price']]\n",
    ")"
   ]
  },
  {
   "cell_type": "code",
   "execution_count": 10,
   "metadata": {},
   "outputs": [
    {
     "data": {
      "text/plain": [
       "array(['Paris'], dtype=object)"
      ]
     },
     "execution_count": 10,
     "metadata": {},
     "output_type": "execute_result"
    }
   ],
   "source": [
    "paris_listings['city'].unique()"
   ]
  },
  {
   "cell_type": "code",
   "execution_count": 11,
   "metadata": {},
   "outputs": [
    {
     "data": {
      "text/plain": [
       "Index(['host_since', 'neighbourhood', 'city', 'accommodates', 'price'], dtype='object')"
      ]
     },
     "execution_count": 11,
     "metadata": {},
     "output_type": "execute_result"
    }
   ],
   "source": [
    "paris_listings.columns"
   ]
  },
  {
   "cell_type": "code",
   "execution_count": 12,
   "metadata": {},
   "outputs": [
    {
     "name": "stdout",
     "output_type": "stream",
     "text": [
      "<class 'pandas.core.frame.DataFrame'>\n",
      "Index: 64690 entries, 0 to 279711\n",
      "Data columns (total 5 columns):\n",
      " #   Column         Non-Null Count  Dtype         \n",
      "---  ------         --------------  -----         \n",
      " 0   host_since     64657 non-null  datetime64[ns]\n",
      " 1   neighbourhood  64690 non-null  object        \n",
      " 2   city           64690 non-null  object        \n",
      " 3   accommodates   64690 non-null  int64         \n",
      " 4   price          64690 non-null  int64         \n",
      "dtypes: datetime64[ns](1), int64(2), object(2)\n",
      "memory usage: 3.0+ MB\n"
     ]
    }
   ],
   "source": [
    "paris_listings.info()"
   ]
  },
  {
   "cell_type": "markdown",
   "metadata": {},
   "source": [
    "#### Check for missing values, and calculate the minimum, maximum and average for each numeric field"
   ]
  },
  {
   "cell_type": "code",
   "execution_count": 13,
   "metadata": {},
   "outputs": [
    {
     "data": {
      "text/plain": [
       "host_since       33\n",
       "neighbourhood     0\n",
       "city              0\n",
       "accommodates      0\n",
       "price             0\n",
       "dtype: int64"
      ]
     },
     "execution_count": 13,
     "metadata": {},
     "output_type": "execute_result"
    }
   ],
   "source": [
    "# paris_listings.isna().any()\n",
    "paris_listings.isna().sum()"
   ]
  },
  {
   "cell_type": "code",
   "execution_count": 14,
   "metadata": {},
   "outputs": [
    {
     "data": {
      "text/html": [
       "<div>\n",
       "<style scoped>\n",
       "    .dataframe tbody tr th:only-of-type {\n",
       "        vertical-align: middle;\n",
       "    }\n",
       "\n",
       "    .dataframe tbody tr th {\n",
       "        vertical-align: top;\n",
       "    }\n",
       "\n",
       "    .dataframe thead th {\n",
       "        text-align: right;\n",
       "    }\n",
       "</style>\n",
       "<table border=\"1\" class=\"dataframe\">\n",
       "  <thead>\n",
       "    <tr style=\"text-align: right;\">\n",
       "      <th></th>\n",
       "      <th>host_since</th>\n",
       "      <th>neighbourhood</th>\n",
       "      <th>city</th>\n",
       "      <th>accommodates</th>\n",
       "      <th>price</th>\n",
       "    </tr>\n",
       "  </thead>\n",
       "  <tbody>\n",
       "    <tr>\n",
       "      <th>52879</th>\n",
       "      <td>NaT</td>\n",
       "      <td>Enclos-St-Laurent</td>\n",
       "      <td>Paris</td>\n",
       "      <td>2</td>\n",
       "      <td>57</td>\n",
       "    </tr>\n",
       "    <tr>\n",
       "      <th>52880</th>\n",
       "      <td>NaT</td>\n",
       "      <td>Enclos-St-Laurent</td>\n",
       "      <td>Paris</td>\n",
       "      <td>2</td>\n",
       "      <td>58</td>\n",
       "    </tr>\n",
       "    <tr>\n",
       "      <th>52881</th>\n",
       "      <td>NaT</td>\n",
       "      <td>Batignolles-Monceau</td>\n",
       "      <td>Paris</td>\n",
       "      <td>4</td>\n",
       "      <td>90</td>\n",
       "    </tr>\n",
       "    <tr>\n",
       "      <th>52882</th>\n",
       "      <td>NaT</td>\n",
       "      <td>Buttes-Montmartre</td>\n",
       "      <td>Paris</td>\n",
       "      <td>5</td>\n",
       "      <td>89</td>\n",
       "    </tr>\n",
       "    <tr>\n",
       "      <th>52883</th>\n",
       "      <td>NaT</td>\n",
       "      <td>Hotel-de-Ville</td>\n",
       "      <td>Paris</td>\n",
       "      <td>2</td>\n",
       "      <td>119</td>\n",
       "    </tr>\n",
       "    <tr>\n",
       "      <th>52884</th>\n",
       "      <td>NaT</td>\n",
       "      <td>Buttes-Montmartre</td>\n",
       "      <td>Paris</td>\n",
       "      <td>4</td>\n",
       "      <td>50</td>\n",
       "    </tr>\n",
       "    <tr>\n",
       "      <th>52885</th>\n",
       "      <td>NaT</td>\n",
       "      <td>Enclos-St-Laurent</td>\n",
       "      <td>Paris</td>\n",
       "      <td>6</td>\n",
       "      <td>220</td>\n",
       "    </tr>\n",
       "    <tr>\n",
       "      <th>52886</th>\n",
       "      <td>NaT</td>\n",
       "      <td>Popincourt</td>\n",
       "      <td>Paris</td>\n",
       "      <td>2</td>\n",
       "      <td>45</td>\n",
       "    </tr>\n",
       "    <tr>\n",
       "      <th>52887</th>\n",
       "      <td>NaT</td>\n",
       "      <td>Popincourt</td>\n",
       "      <td>Paris</td>\n",
       "      <td>4</td>\n",
       "      <td>100</td>\n",
       "    </tr>\n",
       "    <tr>\n",
       "      <th>52888</th>\n",
       "      <td>NaT</td>\n",
       "      <td>Menilmontant</td>\n",
       "      <td>Paris</td>\n",
       "      <td>2</td>\n",
       "      <td>50</td>\n",
       "    </tr>\n",
       "    <tr>\n",
       "      <th>52889</th>\n",
       "      <td>NaT</td>\n",
       "      <td>Enclos-St-Laurent</td>\n",
       "      <td>Paris</td>\n",
       "      <td>2</td>\n",
       "      <td>45</td>\n",
       "    </tr>\n",
       "    <tr>\n",
       "      <th>52890</th>\n",
       "      <td>NaT</td>\n",
       "      <td>Popincourt</td>\n",
       "      <td>Paris</td>\n",
       "      <td>2</td>\n",
       "      <td>85</td>\n",
       "    </tr>\n",
       "    <tr>\n",
       "      <th>52891</th>\n",
       "      <td>NaT</td>\n",
       "      <td>Buttes-Montmartre</td>\n",
       "      <td>Paris</td>\n",
       "      <td>2</td>\n",
       "      <td>70</td>\n",
       "    </tr>\n",
       "    <tr>\n",
       "      <th>52892</th>\n",
       "      <td>NaT</td>\n",
       "      <td>Observatoire</td>\n",
       "      <td>Paris</td>\n",
       "      <td>2</td>\n",
       "      <td>85</td>\n",
       "    </tr>\n",
       "    <tr>\n",
       "      <th>83070</th>\n",
       "      <td>NaT</td>\n",
       "      <td>Popincourt</td>\n",
       "      <td>Paris</td>\n",
       "      <td>12</td>\n",
       "      <td>510</td>\n",
       "    </tr>\n",
       "    <tr>\n",
       "      <th>83071</th>\n",
       "      <td>NaT</td>\n",
       "      <td>Popincourt</td>\n",
       "      <td>Paris</td>\n",
       "      <td>2</td>\n",
       "      <td>50</td>\n",
       "    </tr>\n",
       "    <tr>\n",
       "      <th>97760</th>\n",
       "      <td>NaT</td>\n",
       "      <td>Menilmontant</td>\n",
       "      <td>Paris</td>\n",
       "      <td>8</td>\n",
       "      <td>145</td>\n",
       "    </tr>\n",
       "    <tr>\n",
       "      <th>207306</th>\n",
       "      <td>NaT</td>\n",
       "      <td>Buttes-Montmartre</td>\n",
       "      <td>Paris</td>\n",
       "      <td>2</td>\n",
       "      <td>52</td>\n",
       "    </tr>\n",
       "    <tr>\n",
       "      <th>207316</th>\n",
       "      <td>NaT</td>\n",
       "      <td>Vaugirard</td>\n",
       "      <td>Paris</td>\n",
       "      <td>2</td>\n",
       "      <td>55</td>\n",
       "    </tr>\n",
       "    <tr>\n",
       "      <th>229854</th>\n",
       "      <td>NaT</td>\n",
       "      <td>Buttes-Montmartre</td>\n",
       "      <td>Paris</td>\n",
       "      <td>4</td>\n",
       "      <td>84</td>\n",
       "    </tr>\n",
       "    <tr>\n",
       "      <th>229855</th>\n",
       "      <td>NaT</td>\n",
       "      <td>Popincourt</td>\n",
       "      <td>Paris</td>\n",
       "      <td>2</td>\n",
       "      <td>55</td>\n",
       "    </tr>\n",
       "    <tr>\n",
       "      <th>229856</th>\n",
       "      <td>NaT</td>\n",
       "      <td>Hotel-de-Ville</td>\n",
       "      <td>Paris</td>\n",
       "      <td>2</td>\n",
       "      <td>85</td>\n",
       "    </tr>\n",
       "    <tr>\n",
       "      <th>229857</th>\n",
       "      <td>NaT</td>\n",
       "      <td>Menilmontant</td>\n",
       "      <td>Paris</td>\n",
       "      <td>2</td>\n",
       "      <td>100</td>\n",
       "    </tr>\n",
       "    <tr>\n",
       "      <th>229858</th>\n",
       "      <td>NaT</td>\n",
       "      <td>Menilmontant</td>\n",
       "      <td>Paris</td>\n",
       "      <td>6</td>\n",
       "      <td>120</td>\n",
       "    </tr>\n",
       "    <tr>\n",
       "      <th>229859</th>\n",
       "      <td>NaT</td>\n",
       "      <td>Pantheon</td>\n",
       "      <td>Paris</td>\n",
       "      <td>2</td>\n",
       "      <td>50</td>\n",
       "    </tr>\n",
       "    <tr>\n",
       "      <th>229860</th>\n",
       "      <td>NaT</td>\n",
       "      <td>Passy</td>\n",
       "      <td>Paris</td>\n",
       "      <td>3</td>\n",
       "      <td>95</td>\n",
       "    </tr>\n",
       "    <tr>\n",
       "      <th>229861</th>\n",
       "      <td>NaT</td>\n",
       "      <td>Opera</td>\n",
       "      <td>Paris</td>\n",
       "      <td>2</td>\n",
       "      <td>50</td>\n",
       "    </tr>\n",
       "    <tr>\n",
       "      <th>229862</th>\n",
       "      <td>NaT</td>\n",
       "      <td>Popincourt</td>\n",
       "      <td>Paris</td>\n",
       "      <td>2</td>\n",
       "      <td>40</td>\n",
       "    </tr>\n",
       "    <tr>\n",
       "      <th>229863</th>\n",
       "      <td>NaT</td>\n",
       "      <td>Enclos-St-Laurent</td>\n",
       "      <td>Paris</td>\n",
       "      <td>2</td>\n",
       "      <td>35</td>\n",
       "    </tr>\n",
       "    <tr>\n",
       "      <th>229864</th>\n",
       "      <td>NaT</td>\n",
       "      <td>Temple</td>\n",
       "      <td>Paris</td>\n",
       "      <td>4</td>\n",
       "      <td>190</td>\n",
       "    </tr>\n",
       "    <tr>\n",
       "      <th>229865</th>\n",
       "      <td>NaT</td>\n",
       "      <td>Opera</td>\n",
       "      <td>Paris</td>\n",
       "      <td>6</td>\n",
       "      <td>150</td>\n",
       "    </tr>\n",
       "    <tr>\n",
       "      <th>229866</th>\n",
       "      <td>NaT</td>\n",
       "      <td>Passy</td>\n",
       "      <td>Paris</td>\n",
       "      <td>2</td>\n",
       "      <td>80</td>\n",
       "    </tr>\n",
       "    <tr>\n",
       "      <th>229867</th>\n",
       "      <td>NaT</td>\n",
       "      <td>Palais-Bourbon</td>\n",
       "      <td>Paris</td>\n",
       "      <td>2</td>\n",
       "      <td>95</td>\n",
       "    </tr>\n",
       "  </tbody>\n",
       "</table>\n",
       "</div>"
      ],
      "text/plain": [
       "       host_since        neighbourhood   city  accommodates  price\n",
       "52879         NaT    Enclos-St-Laurent  Paris             2     57\n",
       "52880         NaT    Enclos-St-Laurent  Paris             2     58\n",
       "52881         NaT  Batignolles-Monceau  Paris             4     90\n",
       "52882         NaT    Buttes-Montmartre  Paris             5     89\n",
       "52883         NaT       Hotel-de-Ville  Paris             2    119\n",
       "52884         NaT    Buttes-Montmartre  Paris             4     50\n",
       "52885         NaT    Enclos-St-Laurent  Paris             6    220\n",
       "52886         NaT           Popincourt  Paris             2     45\n",
       "52887         NaT           Popincourt  Paris             4    100\n",
       "52888         NaT         Menilmontant  Paris             2     50\n",
       "52889         NaT    Enclos-St-Laurent  Paris             2     45\n",
       "52890         NaT           Popincourt  Paris             2     85\n",
       "52891         NaT    Buttes-Montmartre  Paris             2     70\n",
       "52892         NaT         Observatoire  Paris             2     85\n",
       "83070         NaT           Popincourt  Paris            12    510\n",
       "83071         NaT           Popincourt  Paris             2     50\n",
       "97760         NaT         Menilmontant  Paris             8    145\n",
       "207306        NaT    Buttes-Montmartre  Paris             2     52\n",
       "207316        NaT            Vaugirard  Paris             2     55\n",
       "229854        NaT    Buttes-Montmartre  Paris             4     84\n",
       "229855        NaT           Popincourt  Paris             2     55\n",
       "229856        NaT       Hotel-de-Ville  Paris             2     85\n",
       "229857        NaT         Menilmontant  Paris             2    100\n",
       "229858        NaT         Menilmontant  Paris             6    120\n",
       "229859        NaT             Pantheon  Paris             2     50\n",
       "229860        NaT                Passy  Paris             3     95\n",
       "229861        NaT                Opera  Paris             2     50\n",
       "229862        NaT           Popincourt  Paris             2     40\n",
       "229863        NaT    Enclos-St-Laurent  Paris             2     35\n",
       "229864        NaT               Temple  Paris             4    190\n",
       "229865        NaT                Opera  Paris             6    150\n",
       "229866        NaT                Passy  Paris             2     80\n",
       "229867        NaT       Palais-Bourbon  Paris             2     95"
      ]
     },
     "execution_count": 14,
     "metadata": {},
     "output_type": "execute_result"
    }
   ],
   "source": [
    "paris_listings[paris_listings['host_since'].isna() == True]"
   ]
  },
  {
   "cell_type": "code",
   "execution_count": 15,
   "metadata": {},
   "outputs": [
    {
     "data": {
      "text/plain": [
       "(64690, 5)"
      ]
     },
     "execution_count": 15,
     "metadata": {},
     "output_type": "execute_result"
    }
   ],
   "source": [
    "paris_listings.shape"
   ]
  },
  {
   "cell_type": "code",
   "execution_count": 16,
   "metadata": {},
   "outputs": [],
   "source": [
    "paris_listings = paris_listings.dropna()"
   ]
  },
  {
   "cell_type": "code",
   "execution_count": 17,
   "metadata": {},
   "outputs": [
    {
     "data": {
      "text/plain": [
       "(64657, 5)"
      ]
     },
     "execution_count": 17,
     "metadata": {},
     "output_type": "execute_result"
    }
   ],
   "source": [
    "paris_listings.shape"
   ]
  },
  {
   "cell_type": "code",
   "execution_count": 18,
   "metadata": {},
   "outputs": [
    {
     "data": {
      "text/plain": [
       "host_since       False\n",
       "neighbourhood    False\n",
       "city             False\n",
       "accommodates     False\n",
       "price            False\n",
       "dtype: bool"
      ]
     },
     "execution_count": 18,
     "metadata": {},
     "output_type": "execute_result"
    }
   ],
   "source": [
    "paris_listings.isnull().any()"
   ]
  },
  {
   "cell_type": "code",
   "execution_count": 19,
   "metadata": {},
   "outputs": [
    {
     "data": {
      "text/html": [
       "<div>\n",
       "<style scoped>\n",
       "    .dataframe tbody tr th:only-of-type {\n",
       "        vertical-align: middle;\n",
       "    }\n",
       "\n",
       "    .dataframe tbody tr th {\n",
       "        vertical-align: top;\n",
       "    }\n",
       "\n",
       "    .dataframe thead th {\n",
       "        text-align: right;\n",
       "    }\n",
       "</style>\n",
       "<table border=\"1\" class=\"dataframe\">\n",
       "  <thead>\n",
       "    <tr style=\"text-align: right;\">\n",
       "      <th></th>\n",
       "      <th>host_since</th>\n",
       "      <th>neighbourhood</th>\n",
       "      <th>city</th>\n",
       "      <th>accommodates</th>\n",
       "      <th>price</th>\n",
       "    </tr>\n",
       "  </thead>\n",
       "  <tbody>\n",
       "  </tbody>\n",
       "</table>\n",
       "</div>"
      ],
      "text/plain": [
       "Empty DataFrame\n",
       "Columns: [host_since, neighbourhood, city, accommodates, price]\n",
       "Index: []"
      ]
     },
     "execution_count": 19,
     "metadata": {},
     "output_type": "execute_result"
    }
   ],
   "source": [
    "paris_listings[paris_listings['host_since'].isnull() == True]"
   ]
  },
  {
   "cell_type": "code",
   "execution_count": 20,
   "metadata": {},
   "outputs": [
    {
     "data": {
      "text/plain": [
       "host_since       datetime64[ns]\n",
       "neighbourhood            object\n",
       "city                     object\n",
       "accommodates              int64\n",
       "price                     int64\n",
       "dtype: object"
      ]
     },
     "execution_count": 20,
     "metadata": {},
     "output_type": "execute_result"
    }
   ],
   "source": [
    "paris_listings.dtypes"
   ]
  },
  {
   "cell_type": "code",
   "execution_count": 21,
   "metadata": {},
   "outputs": [
    {
     "data": {
      "text/plain": [
       "(np.int64(0), np.int64(16), np.float64(3.037876796015899))"
      ]
     },
     "execution_count": 21,
     "metadata": {},
     "output_type": "execute_result"
    }
   ],
   "source": [
    "paris_listings['accommodates'].min(), paris_listings['accommodates'].max(), paris_listings['accommodates'].mean()"
   ]
  },
  {
   "cell_type": "code",
   "execution_count": 22,
   "metadata": {},
   "outputs": [
    {
     "data": {
      "text/plain": [
       "(np.int64(0), np.int64(12000), np.float64(113.10461357625624))"
      ]
     },
     "execution_count": 22,
     "metadata": {},
     "output_type": "execute_result"
    }
   ],
   "source": [
    "paris_listings['price'].min(), paris_listings['price'].max(), paris_listings['price'].mean()"
   ]
  },
  {
   "cell_type": "code",
   "execution_count": 23,
   "metadata": {},
   "outputs": [
    {
     "data": {
      "text/html": [
       "<div>\n",
       "<style scoped>\n",
       "    .dataframe tbody tr th:only-of-type {\n",
       "        vertical-align: middle;\n",
       "    }\n",
       "\n",
       "    .dataframe tbody tr th {\n",
       "        vertical-align: top;\n",
       "    }\n",
       "\n",
       "    .dataframe thead th {\n",
       "        text-align: right;\n",
       "    }\n",
       "</style>\n",
       "<table border=\"1\" class=\"dataframe\">\n",
       "  <thead>\n",
       "    <tr style=\"text-align: right;\">\n",
       "      <th></th>\n",
       "      <th>host_since</th>\n",
       "      <th>accommodates</th>\n",
       "      <th>price</th>\n",
       "    </tr>\n",
       "  </thead>\n",
       "  <tbody>\n",
       "    <tr>\n",
       "      <th>count</th>\n",
       "      <td>64657</td>\n",
       "      <td>64657.000000</td>\n",
       "      <td>64657.000000</td>\n",
       "    </tr>\n",
       "    <tr>\n",
       "      <th>mean</th>\n",
       "      <td>2015-11-01 11:06:05.528867328</td>\n",
       "      <td>3.037877</td>\n",
       "      <td>113.104614</td>\n",
       "    </tr>\n",
       "    <tr>\n",
       "      <th>min</th>\n",
       "      <td>2008-08-30 00:00:00</td>\n",
       "      <td>0.000000</td>\n",
       "      <td>0.000000</td>\n",
       "    </tr>\n",
       "    <tr>\n",
       "      <th>25%</th>\n",
       "      <td>2014-03-09 00:00:00</td>\n",
       "      <td>2.000000</td>\n",
       "      <td>59.000000</td>\n",
       "    </tr>\n",
       "    <tr>\n",
       "      <th>50%</th>\n",
       "      <td>2015-07-07 00:00:00</td>\n",
       "      <td>2.000000</td>\n",
       "      <td>80.000000</td>\n",
       "    </tr>\n",
       "    <tr>\n",
       "      <th>75%</th>\n",
       "      <td>2017-05-29 00:00:00</td>\n",
       "      <td>4.000000</td>\n",
       "      <td>120.000000</td>\n",
       "    </tr>\n",
       "    <tr>\n",
       "      <th>max</th>\n",
       "      <td>2021-02-07 00:00:00</td>\n",
       "      <td>16.000000</td>\n",
       "      <td>12000.000000</td>\n",
       "    </tr>\n",
       "    <tr>\n",
       "      <th>std</th>\n",
       "      <td>NaN</td>\n",
       "      <td>1.588382</td>\n",
       "      <td>214.479626</td>\n",
       "    </tr>\n",
       "  </tbody>\n",
       "</table>\n",
       "</div>"
      ],
      "text/plain": [
       "                          host_since  accommodates         price\n",
       "count                          64657  64657.000000  64657.000000\n",
       "mean   2015-11-01 11:06:05.528867328      3.037877    113.104614\n",
       "min              2008-08-30 00:00:00      0.000000      0.000000\n",
       "25%              2014-03-09 00:00:00      2.000000     59.000000\n",
       "50%              2015-07-07 00:00:00      2.000000     80.000000\n",
       "75%              2017-05-29 00:00:00      4.000000    120.000000\n",
       "max              2021-02-07 00:00:00     16.000000  12000.000000\n",
       "std                              NaN      1.588382    214.479626"
      ]
     },
     "execution_count": 23,
     "metadata": {},
     "output_type": "execute_result"
    }
   ],
   "source": [
    "paris_listings.describe()"
   ]
  },
  {
   "cell_type": "code",
   "execution_count": 24,
   "metadata": {},
   "outputs": [
    {
     "data": {
      "text/plain": [
       "host_since       54\n",
       "neighbourhood    54\n",
       "city             54\n",
       "accommodates     54\n",
       "price            54\n",
       "dtype: int64"
      ]
     },
     "execution_count": 24,
     "metadata": {},
     "output_type": "execute_result"
    }
   ],
   "source": [
    "paris_listings.query(\"accommodates == 0\").count()"
   ]
  },
  {
   "cell_type": "code",
   "execution_count": 25,
   "metadata": {},
   "outputs": [
    {
     "data": {
      "text/plain": [
       "host_since       62\n",
       "neighbourhood    62\n",
       "city             62\n",
       "accommodates     62\n",
       "price            62\n",
       "dtype: int64"
      ]
     },
     "execution_count": 25,
     "metadata": {},
     "output_type": "execute_result"
    }
   ],
   "source": [
    "paris_listings.query(\"price == 0\").count()"
   ]
  },
  {
   "cell_type": "code",
   "execution_count": 26,
   "metadata": {},
   "outputs": [
    {
     "data": {
      "text/plain": [
       "host_since       54\n",
       "neighbourhood    54\n",
       "city             54\n",
       "accommodates     54\n",
       "price            54\n",
       "dtype: int64"
      ]
     },
     "execution_count": 26,
     "metadata": {},
     "output_type": "execute_result"
    }
   ],
   "source": [
    "paris_listings.query(\"price == 0 and accommodates == 0\").count()"
   ]
  },
  {
   "cell_type": "markdown",
   "metadata": {},
   "source": [
    "# Objective 2: Preparing the data for visualization"
   ]
  },
  {
   "cell_type": "markdown",
   "metadata": {},
   "source": [
    "#### Create table named paris_listings_neighbourhood that groups Paris listings by neighbourhood and calculates the mean price for each neighborhood sorted from lowest to highest average price"
   ]
  },
  {
   "cell_type": "markdown",
   "metadata": {},
   "source": [
    "> Solution 1"
   ]
  },
  {
   "cell_type": "code",
   "execution_count": 27,
   "metadata": {},
   "outputs": [
    {
     "data": {
      "text/html": [
       "<div>\n",
       "<style scoped>\n",
       "    .dataframe tbody tr th:only-of-type {\n",
       "        vertical-align: middle;\n",
       "    }\n",
       "\n",
       "    .dataframe tbody tr th {\n",
       "        vertical-align: top;\n",
       "    }\n",
       "\n",
       "    .dataframe thead th {\n",
       "        text-align: right;\n",
       "    }\n",
       "</style>\n",
       "<table border=\"1\" class=\"dataframe\">\n",
       "  <thead>\n",
       "    <tr style=\"text-align: right;\">\n",
       "      <th></th>\n",
       "      <th>price</th>\n",
       "    </tr>\n",
       "    <tr>\n",
       "      <th>neighbourhood</th>\n",
       "      <th></th>\n",
       "    </tr>\n",
       "  </thead>\n",
       "  <tbody>\n",
       "    <tr>\n",
       "      <th>Menilmontant</th>\n",
       "      <td>74.911561</td>\n",
       "    </tr>\n",
       "    <tr>\n",
       "      <th>Buttes-Chaumont</th>\n",
       "      <td>82.690182</td>\n",
       "    </tr>\n",
       "    <tr>\n",
       "      <th>Buttes-Montmartre</th>\n",
       "      <td>87.222069</td>\n",
       "    </tr>\n",
       "    <tr>\n",
       "      <th>Reuilly</th>\n",
       "      <td>89.058402</td>\n",
       "    </tr>\n",
       "    <tr>\n",
       "      <th>Popincourt</th>\n",
       "      <td>90.518955</td>\n",
       "    </tr>\n",
       "    <tr>\n",
       "      <th>Gobelins</th>\n",
       "      <td>98.110184</td>\n",
       "    </tr>\n",
       "    <tr>\n",
       "      <th>Observatoire</th>\n",
       "      <td>101.873591</td>\n",
       "    </tr>\n",
       "    <tr>\n",
       "      <th>Batignolles-Monceau</th>\n",
       "      <td>102.615616</td>\n",
       "    </tr>\n",
       "    <tr>\n",
       "      <th>Enclos-St-Laurent</th>\n",
       "      <td>102.988752</td>\n",
       "    </tr>\n",
       "    <tr>\n",
       "      <th>Vaugirard</th>\n",
       "      <td>106.842073</td>\n",
       "    </tr>\n",
       "    <tr>\n",
       "      <th>Opera</th>\n",
       "      <td>119.050713</td>\n",
       "    </tr>\n",
       "    <tr>\n",
       "      <th>Pantheon</th>\n",
       "      <td>122.696120</td>\n",
       "    </tr>\n",
       "    <tr>\n",
       "      <th>Temple</th>\n",
       "      <td>138.429300</td>\n",
       "    </tr>\n",
       "    <tr>\n",
       "      <th>Hotel-de-Ville</th>\n",
       "      <td>144.515228</td>\n",
       "    </tr>\n",
       "    <tr>\n",
       "      <th>Bourse</th>\n",
       "      <td>149.496801</td>\n",
       "    </tr>\n",
       "    <tr>\n",
       "      <th>Luxembourg</th>\n",
       "      <td>155.638639</td>\n",
       "    </tr>\n",
       "    <tr>\n",
       "      <th>Palais-Bourbon</th>\n",
       "      <td>156.891525</td>\n",
       "    </tr>\n",
       "    <tr>\n",
       "      <th>Passy</th>\n",
       "      <td>161.190476</td>\n",
       "    </tr>\n",
       "    <tr>\n",
       "      <th>Louvre</th>\n",
       "      <td>175.379972</td>\n",
       "    </tr>\n",
       "    <tr>\n",
       "      <th>Elysee</th>\n",
       "      <td>210.536765</td>\n",
       "    </tr>\n",
       "  </tbody>\n",
       "</table>\n",
       "</div>"
      ],
      "text/plain": [
       "                          price\n",
       "neighbourhood                  \n",
       "Menilmontant          74.911561\n",
       "Buttes-Chaumont       82.690182\n",
       "Buttes-Montmartre     87.222069\n",
       "Reuilly               89.058402\n",
       "Popincourt            90.518955\n",
       "Gobelins              98.110184\n",
       "Observatoire         101.873591\n",
       "Batignolles-Monceau  102.615616\n",
       "Enclos-St-Laurent    102.988752\n",
       "Vaugirard            106.842073\n",
       "Opera                119.050713\n",
       "Pantheon             122.696120\n",
       "Temple               138.429300\n",
       "Hotel-de-Ville       144.515228\n",
       "Bourse               149.496801\n",
       "Luxembourg           155.638639\n",
       "Palais-Bourbon       156.891525\n",
       "Passy                161.190476\n",
       "Louvre               175.379972\n",
       "Elysee               210.536765"
      ]
     },
     "execution_count": 27,
     "metadata": {},
     "output_type": "execute_result"
    }
   ],
   "source": [
    "paris_listings_neighbourhood = paris_listings.groupby('neighbourhood')['price'].mean().sort_values()\n",
    "pd.DataFrame(paris_listings_neighbourhood)"
   ]
  },
  {
   "cell_type": "markdown",
   "metadata": {},
   "source": [
    "> Solution 2"
   ]
  },
  {
   "cell_type": "code",
   "execution_count": 28,
   "metadata": {},
   "outputs": [
    {
     "data": {
      "text/html": [
       "<div>\n",
       "<style scoped>\n",
       "    .dataframe tbody tr th:only-of-type {\n",
       "        vertical-align: middle;\n",
       "    }\n",
       "\n",
       "    .dataframe tbody tr th {\n",
       "        vertical-align: top;\n",
       "    }\n",
       "\n",
       "    .dataframe thead th {\n",
       "        text-align: right;\n",
       "    }\n",
       "</style>\n",
       "<table border=\"1\" class=\"dataframe\">\n",
       "  <thead>\n",
       "    <tr style=\"text-align: right;\">\n",
       "      <th></th>\n",
       "      <th>neighbourhood</th>\n",
       "      <th>mean_price</th>\n",
       "    </tr>\n",
       "  </thead>\n",
       "  <tbody>\n",
       "    <tr>\n",
       "      <th>0</th>\n",
       "      <td>Menilmontant</td>\n",
       "      <td>74.911561</td>\n",
       "    </tr>\n",
       "    <tr>\n",
       "      <th>1</th>\n",
       "      <td>Buttes-Chaumont</td>\n",
       "      <td>82.690182</td>\n",
       "    </tr>\n",
       "    <tr>\n",
       "      <th>2</th>\n",
       "      <td>Buttes-Montmartre</td>\n",
       "      <td>87.222069</td>\n",
       "    </tr>\n",
       "    <tr>\n",
       "      <th>3</th>\n",
       "      <td>Reuilly</td>\n",
       "      <td>89.058402</td>\n",
       "    </tr>\n",
       "    <tr>\n",
       "      <th>4</th>\n",
       "      <td>Popincourt</td>\n",
       "      <td>90.518955</td>\n",
       "    </tr>\n",
       "    <tr>\n",
       "      <th>5</th>\n",
       "      <td>Gobelins</td>\n",
       "      <td>98.110184</td>\n",
       "    </tr>\n",
       "    <tr>\n",
       "      <th>6</th>\n",
       "      <td>Observatoire</td>\n",
       "      <td>101.873591</td>\n",
       "    </tr>\n",
       "    <tr>\n",
       "      <th>7</th>\n",
       "      <td>Batignolles-Monceau</td>\n",
       "      <td>102.615616</td>\n",
       "    </tr>\n",
       "    <tr>\n",
       "      <th>8</th>\n",
       "      <td>Enclos-St-Laurent</td>\n",
       "      <td>102.988752</td>\n",
       "    </tr>\n",
       "    <tr>\n",
       "      <th>9</th>\n",
       "      <td>Vaugirard</td>\n",
       "      <td>106.842073</td>\n",
       "    </tr>\n",
       "    <tr>\n",
       "      <th>10</th>\n",
       "      <td>Opera</td>\n",
       "      <td>119.050713</td>\n",
       "    </tr>\n",
       "    <tr>\n",
       "      <th>11</th>\n",
       "      <td>Pantheon</td>\n",
       "      <td>122.696120</td>\n",
       "    </tr>\n",
       "    <tr>\n",
       "      <th>12</th>\n",
       "      <td>Temple</td>\n",
       "      <td>138.429300</td>\n",
       "    </tr>\n",
       "    <tr>\n",
       "      <th>13</th>\n",
       "      <td>Hotel-de-Ville</td>\n",
       "      <td>144.515228</td>\n",
       "    </tr>\n",
       "    <tr>\n",
       "      <th>14</th>\n",
       "      <td>Bourse</td>\n",
       "      <td>149.496801</td>\n",
       "    </tr>\n",
       "    <tr>\n",
       "      <th>15</th>\n",
       "      <td>Luxembourg</td>\n",
       "      <td>155.638639</td>\n",
       "    </tr>\n",
       "    <tr>\n",
       "      <th>16</th>\n",
       "      <td>Palais-Bourbon</td>\n",
       "      <td>156.891525</td>\n",
       "    </tr>\n",
       "    <tr>\n",
       "      <th>17</th>\n",
       "      <td>Passy</td>\n",
       "      <td>161.190476</td>\n",
       "    </tr>\n",
       "    <tr>\n",
       "      <th>18</th>\n",
       "      <td>Louvre</td>\n",
       "      <td>175.379972</td>\n",
       "    </tr>\n",
       "    <tr>\n",
       "      <th>19</th>\n",
       "      <td>Elysee</td>\n",
       "      <td>210.536765</td>\n",
       "    </tr>\n",
       "  </tbody>\n",
       "</table>\n",
       "</div>"
      ],
      "text/plain": [
       "          neighbourhood  mean_price\n",
       "0          Menilmontant   74.911561\n",
       "1       Buttes-Chaumont   82.690182\n",
       "2     Buttes-Montmartre   87.222069\n",
       "3               Reuilly   89.058402\n",
       "4            Popincourt   90.518955\n",
       "5              Gobelins   98.110184\n",
       "6          Observatoire  101.873591\n",
       "7   Batignolles-Monceau  102.615616\n",
       "8     Enclos-St-Laurent  102.988752\n",
       "9             Vaugirard  106.842073\n",
       "10                Opera  119.050713\n",
       "11             Pantheon  122.696120\n",
       "12               Temple  138.429300\n",
       "13       Hotel-de-Ville  144.515228\n",
       "14               Bourse  149.496801\n",
       "15           Luxembourg  155.638639\n",
       "16       Palais-Bourbon  156.891525\n",
       "17                Passy  161.190476\n",
       "18               Louvre  175.379972\n",
       "19               Elysee  210.536765"
      ]
     },
     "execution_count": 28,
     "metadata": {},
     "output_type": "execute_result"
    }
   ],
   "source": [
    "paris_listings_neighbourhood = (\n",
    "    paris_listings\n",
    "    .groupby('neighbourhood')\n",
    "    .agg(mean_price=('price', 'mean'))\n",
    "    .sort_values('mean_price')\n",
    "    .reset_index()\n",
    ")\n",
    "paris_listings_neighbourhood"
   ]
  },
  {
   "cell_type": "markdown",
   "metadata": {},
   "source": [
    "#### Create table named paris_listings_accommodations. This table should be filtered down to the most expensive neighbourhood in Paris, grouped by accommodations column, and contain the mean price for each value of accommodates sorted from lowest to highest average price"
   ]
  },
  {
   "cell_type": "code",
   "execution_count": 29,
   "metadata": {},
   "outputs": [
    {
     "data": {
      "text/plain": [
       "'Elysee'"
      ]
     },
     "execution_count": 29,
     "metadata": {},
     "output_type": "execute_result"
    }
   ],
   "source": [
    "most_expensive_neighbourhood = paris_listings_neighbourhood.loc[\n",
    "    paris_listings_neighbourhood['mean_price']\n",
    "    .idxmax()\n",
    "    , 'neighbourhood'\n",
    "]\n",
    "most_expensive_neighbourhood"
   ]
  },
  {
   "cell_type": "markdown",
   "metadata": {},
   "source": [
    "> Solution 1"
   ]
  },
  {
   "cell_type": "code",
   "execution_count": 30,
   "metadata": {},
   "outputs": [
    {
     "data": {
      "text/html": [
       "<div>\n",
       "<style scoped>\n",
       "    .dataframe tbody tr th:only-of-type {\n",
       "        vertical-align: middle;\n",
       "    }\n",
       "\n",
       "    .dataframe tbody tr th {\n",
       "        vertical-align: top;\n",
       "    }\n",
       "\n",
       "    .dataframe thead th {\n",
       "        text-align: right;\n",
       "    }\n",
       "</style>\n",
       "<table border=\"1\" class=\"dataframe\">\n",
       "  <thead>\n",
       "    <tr style=\"text-align: right;\">\n",
       "      <th></th>\n",
       "      <th>mean_price</th>\n",
       "    </tr>\n",
       "    <tr>\n",
       "      <th>accommodates</th>\n",
       "      <th></th>\n",
       "    </tr>\n",
       "  </thead>\n",
       "  <tbody>\n",
       "    <tr>\n",
       "      <th>0</th>\n",
       "      <td>0.000000</td>\n",
       "    </tr>\n",
       "    <tr>\n",
       "      <th>1</th>\n",
       "      <td>79.522222</td>\n",
       "    </tr>\n",
       "    <tr>\n",
       "      <th>3</th>\n",
       "      <td>152.828767</td>\n",
       "    </tr>\n",
       "    <tr>\n",
       "      <th>2</th>\n",
       "      <td>155.103352</td>\n",
       "    </tr>\n",
       "    <tr>\n",
       "      <th>4</th>\n",
       "      <td>212.096070</td>\n",
       "    </tr>\n",
       "  </tbody>\n",
       "</table>\n",
       "</div>"
      ],
      "text/plain": [
       "              mean_price\n",
       "accommodates            \n",
       "0               0.000000\n",
       "1              79.522222\n",
       "3             152.828767\n",
       "2             155.103352\n",
       "4             212.096070"
      ]
     },
     "execution_count": 30,
     "metadata": {},
     "output_type": "execute_result"
    }
   ],
   "source": [
    "paris_listings_accommodations = (\n",
    "    paris_listings[paris_listings['neighbourhood'] == most_expensive_neighbourhood]\n",
    "    .groupby('accommodates')\n",
    "    .agg(mean_price=('price', 'mean'))\n",
    "    .sort_values('mean_price')\n",
    ")\n",
    "\n",
    "paris_listings_accommodations.head()"
   ]
  },
  {
   "cell_type": "markdown",
   "metadata": {},
   "source": [
    "> Solution 2"
   ]
  },
  {
   "cell_type": "code",
   "execution_count": 31,
   "metadata": {},
   "outputs": [
    {
     "data": {
      "text/html": [
       "<div>\n",
       "<style scoped>\n",
       "    .dataframe tbody tr th:only-of-type {\n",
       "        vertical-align: middle;\n",
       "    }\n",
       "\n",
       "    .dataframe tbody tr th {\n",
       "        vertical-align: top;\n",
       "    }\n",
       "\n",
       "    .dataframe thead th {\n",
       "        text-align: right;\n",
       "    }\n",
       "</style>\n",
       "<table border=\"1\" class=\"dataframe\">\n",
       "  <thead>\n",
       "    <tr style=\"text-align: right;\">\n",
       "      <th></th>\n",
       "      <th>price</th>\n",
       "    </tr>\n",
       "    <tr>\n",
       "      <th>accommodates</th>\n",
       "      <th></th>\n",
       "    </tr>\n",
       "  </thead>\n",
       "  <tbody>\n",
       "    <tr>\n",
       "      <th>0</th>\n",
       "      <td>0.000000</td>\n",
       "    </tr>\n",
       "    <tr>\n",
       "      <th>1</th>\n",
       "      <td>79.522222</td>\n",
       "    </tr>\n",
       "    <tr>\n",
       "      <th>3</th>\n",
       "      <td>152.828767</td>\n",
       "    </tr>\n",
       "    <tr>\n",
       "      <th>2</th>\n",
       "      <td>155.103352</td>\n",
       "    </tr>\n",
       "    <tr>\n",
       "      <th>4</th>\n",
       "      <td>212.096070</td>\n",
       "    </tr>\n",
       "  </tbody>\n",
       "</table>\n",
       "</div>"
      ],
      "text/plain": [
       "                   price\n",
       "accommodates            \n",
       "0               0.000000\n",
       "1              79.522222\n",
       "3             152.828767\n",
       "2             155.103352\n",
       "4             212.096070"
      ]
     },
     "execution_count": 31,
     "metadata": {},
     "output_type": "execute_result"
    }
   ],
   "source": [
    "paris_listings_accommodates = (\n",
    "    paris_listings\n",
    "    .query(f\"neighbourhood == '{most_expensive_neighbourhood}'\")\n",
    "    .groupby('accommodates')\n",
    "    # getting the mean of the price and the count of rows for each value of accommodates\n",
    "    # .agg({\"price\": \"mean\", \"neighbourhood\": \"count\"}) \n",
    "    .agg({\"price\": \"mean\"}) \n",
    "    .sort_values(\"price\")\n",
    ")\n",
    "\n",
    "paris_listings_accommodates.head()"
   ]
  },
  {
   "cell_type": "markdown",
   "metadata": {},
   "source": [
    "#### Create a table called paris_listings_over_time, which is grouped by the year of the 'host_since' column. Calculate a count of rows, representing total number of new hosts, and the average price for each year."
   ]
  },
  {
   "cell_type": "code",
   "execution_count": 32,
   "metadata": {},
   "outputs": [
    {
     "data": {
      "text/html": [
       "<div>\n",
       "<style scoped>\n",
       "    .dataframe tbody tr th:only-of-type {\n",
       "        vertical-align: middle;\n",
       "    }\n",
       "\n",
       "    .dataframe tbody tr th {\n",
       "        vertical-align: top;\n",
       "    }\n",
       "\n",
       "    .dataframe thead th {\n",
       "        text-align: right;\n",
       "    }\n",
       "</style>\n",
       "<table border=\"1\" class=\"dataframe\">\n",
       "  <thead>\n",
       "    <tr style=\"text-align: right;\">\n",
       "      <th></th>\n",
       "      <th>neighbourhood</th>\n",
       "      <th>price</th>\n",
       "    </tr>\n",
       "    <tr>\n",
       "      <th>host_since</th>\n",
       "      <th></th>\n",
       "      <th></th>\n",
       "    </tr>\n",
       "  </thead>\n",
       "  <tbody>\n",
       "    <tr>\n",
       "      <th>2008-12-31</th>\n",
       "      <td>4</td>\n",
       "      <td>77.750000</td>\n",
       "    </tr>\n",
       "    <tr>\n",
       "      <th>2009-12-31</th>\n",
       "      <td>106</td>\n",
       "      <td>159.641509</td>\n",
       "    </tr>\n",
       "    <tr>\n",
       "      <th>2010-12-31</th>\n",
       "      <td>416</td>\n",
       "      <td>125.031250</td>\n",
       "    </tr>\n",
       "    <tr>\n",
       "      <th>2011-12-31</th>\n",
       "      <td>1339</td>\n",
       "      <td>124.828230</td>\n",
       "    </tr>\n",
       "    <tr>\n",
       "      <th>2012-12-31</th>\n",
       "      <td>4592</td>\n",
       "      <td>111.578615</td>\n",
       "    </tr>\n",
       "    <tr>\n",
       "      <th>2013-12-31</th>\n",
       "      <td>8142</td>\n",
       "      <td>107.096414</td>\n",
       "    </tr>\n",
       "    <tr>\n",
       "      <th>2014-12-31</th>\n",
       "      <td>10922</td>\n",
       "      <td>100.253800</td>\n",
       "    </tr>\n",
       "    <tr>\n",
       "      <th>2015-12-31</th>\n",
       "      <td>12147</td>\n",
       "      <td>103.646250</td>\n",
       "    </tr>\n",
       "    <tr>\n",
       "      <th>2016-12-31</th>\n",
       "      <td>8871</td>\n",
       "      <td>114.159847</td>\n",
       "    </tr>\n",
       "    <tr>\n",
       "      <th>2017-12-31</th>\n",
       "      <td>4585</td>\n",
       "      <td>108.658888</td>\n",
       "    </tr>\n",
       "    <tr>\n",
       "      <th>2018-12-31</th>\n",
       "      <td>4294</td>\n",
       "      <td>138.209362</td>\n",
       "    </tr>\n",
       "    <tr>\n",
       "      <th>2019-12-31</th>\n",
       "      <td>5694</td>\n",
       "      <td>129.757113</td>\n",
       "    </tr>\n",
       "    <tr>\n",
       "      <th>2020-12-31</th>\n",
       "      <td>3412</td>\n",
       "      <td>141.456038</td>\n",
       "    </tr>\n",
       "    <tr>\n",
       "      <th>2021-12-31</th>\n",
       "      <td>133</td>\n",
       "      <td>93.488722</td>\n",
       "    </tr>\n",
       "  </tbody>\n",
       "</table>\n",
       "</div>"
      ],
      "text/plain": [
       "            neighbourhood       price\n",
       "host_since                           \n",
       "2008-12-31              4   77.750000\n",
       "2009-12-31            106  159.641509\n",
       "2010-12-31            416  125.031250\n",
       "2011-12-31           1339  124.828230\n",
       "2012-12-31           4592  111.578615\n",
       "2013-12-31           8142  107.096414\n",
       "2014-12-31          10922  100.253800\n",
       "2015-12-31          12147  103.646250\n",
       "2016-12-31           8871  114.159847\n",
       "2017-12-31           4585  108.658888\n",
       "2018-12-31           4294  138.209362\n",
       "2019-12-31           5694  129.757113\n",
       "2020-12-31           3412  141.456038\n",
       "2021-12-31            133   93.488722"
      ]
     },
     "execution_count": 32,
     "metadata": {},
     "output_type": "execute_result"
    }
   ],
   "source": [
    "paris_listings_over_time = (\n",
    "    paris_listings\n",
    "    # defining date column as dataframe index because we are working with time series data\n",
    "    .set_index('host_since')\n",
    "    .resample('YE')\n",
    "    .agg({\n",
    "        'neighbourhood': 'count',\n",
    "        'price': 'mean'\n",
    "    })\n",
    ")\n",
    "\n",
    "paris_listings_over_time"
   ]
  },
  {
   "cell_type": "markdown",
   "metadata": {},
   "source": [
    "# Visualize the Data"
   ]
  },
  {
   "cell_type": "code",
   "execution_count": 33,
   "metadata": {},
   "outputs": [],
   "source": [
    "import seaborn as sns\n",
    "import matplotlib.pyplot as plt"
   ]
  },
  {
   "cell_type": "code",
   "execution_count": 34,
   "metadata": {},
   "outputs": [
    {
     "data": {
      "image/png": "[encoded data removed]",
      "text/plain": [
       "<Figure size 640x480 with 1 Axes>"
      ]
     },
     "metadata": {},
     "output_type": "display_data"
    }
   ],
   "source": [
    "sns.barplot(\n",
    "    data=paris_listings_neighbourhood,\n",
    "    y=\"neighbourhood\",\n",
    "    x=\"mean_price\",\n",
    "    palette=\"Reds_d\",\n",
    "    hue='neighbourhood',\n",
    "    legend=False\n",
    ")\n",
    "plt.xlabel('Mean Price (€)')\n",
    "plt.ylabel('Neighbourhood')\n",
    "plt.title('Mean Price by Neighbourhood in Paris')\n",
    "plt.show()"
   ]
  },
  {
   "cell_type": "code",
   "execution_count": 35,
   "metadata": {},
   "outputs": [
    {
     "data": {
      "image/png": "[encoded data removed]",
      "text/plain": [
       "<Figure size 640x480 with 1 Axes>"
      ]
     },
     "metadata": {},
     "output_type": "display_data"
    }
   ],
   "source": [
    "(paris_listings_accommodates\n",
    " .plot\n",
    " .barh(\n",
    "     title='Average Listing Price by Accommodation Number',\n",
    "     xlabel='Price per night (euros)',\n",
    "     ylabel='Accommodation Capacity',\n",
    "     legend=None\n",
    " )\n",
    ")\n",
    "\n",
    "sns.despine()"
   ]
  },
  {
   "cell_type": "code",
   "execution_count": 45,
   "metadata": {},
   "outputs": [
    {
     "data": {
      "image/png": "[encoded data removed]",
      "text/plain": [
       "<Figure size 640x480 with 1 Axes>"
      ]
     },
     "metadata": {},
     "output_type": "display_data"
    }
   ],
   "source": [
    "paris_listings_over_time['neighbourhood'].plot(\n",
    "    ylabel='New Hosts',\n",
    "    title='New AirBnb Hosts in Paris Over Time'\n",
    ")\n",
    "\n",
    "sns.despine()"
   ]
  },
  {
   "cell_type": "code",
   "execution_count": 48,
   "metadata": {},
   "outputs": [
    {
     "data": {
      "image/png": "[encoded data removed]",
      "text/plain": [
       "<Figure size 640x480 with 1 Axes>"
      ]
     },
     "metadata": {},
     "output_type": "display_data"
    }
   ],
   "source": [
    "paris_listings_over_time['price'].plot(\n",
    "    ylabel='AirBnb Average Price',\n",
    "    title='Average Price in Paris Over Time'\n",
    ")\n",
    "\n",
    "sns.despine()"
   ]
  },
  {
   "cell_type": "code",
   "execution_count": 55,
   "metadata": {},
   "outputs": [
    {
     "data": {
      "image/png": "[encoded data removed]",
      "text/plain": [
       "<Figure size 800x500 with 2 Axes>"
      ]
     },
     "metadata": {},
     "output_type": "display_data"
    }
   ],
   "source": [
    "fig, ax = plt.subplots(figsize=(8,5))\n",
    "ax2 = ax.twinx()\n",
    "\n",
    "ax.plot(\n",
    "    paris_listings_over_time['neighbourhood'], \n",
    "    color='green', marker='o', label='Number of Hosts'\n",
    ")\n",
    "ax2.plot(\n",
    "    paris_listings_over_time['price'], \n",
    "    color='red', marker='s', label='Average Price'\n",
    ")\n",
    "\n",
    "ax.set_title('Number of Hosts and Average Price Over Time', fontsize=14, weight='bold')\n",
    "ax.set_xlabel('Year', fontsize=12)\n",
    "ax.set_ylabel('Number of Hosts', fontsize=12, color='green')\n",
    "ax2.set_ylabel('Average Price (€)', fontsize=12, color='red')\n",
    "\n",
    "ax.legend(loc='upper left')\n",
    "ax2.legend(loc='upper right')\n",
    "\n",
    "ax.grid(alpha=0.3)\n",
    "plt.tight_layout()\n",
    "\n",
    "plt.show()"
   ]
  }
 ],
 "metadata": {
  "kernelspec": {
   "display_name": "venv",
   "language": "python",
   "name": "python3"
  },
  "language_info": {
   "codemirror_mode": {
    "name": "ipython",
    "version": 3
   },
   "file_extension": ".py",
   "mimetype": "text/x-python",
   "name": "python",
   "nbconvert_exporter": "python",
   "pygments_lexer": "ipython3",
   "version": "3.11.2"
  }
 },
 "nbformat": 4,
 "nbformat_minor": 2
}
